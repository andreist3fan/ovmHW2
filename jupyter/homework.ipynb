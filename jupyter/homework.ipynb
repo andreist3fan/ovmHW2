{
 "cells": [
  {
   "metadata": {
    "ExecuteTime": {
     "end_time": "2025-01-12T09:47:05.274392Z",
     "start_time": "2025-01-12T09:47:05.262381Z"
    }
   },
   "cell_type": "code",
   "source": [
    "import numpy as np\n",
    "import scipy.stats as stats\n",
    "import matplotlib.pyplot as plt\n",
    "import pandas as pd"
   ],
   "id": "9e47e1d00c644857",
   "outputs": [],
   "execution_count": 43
  },
  {
   "metadata": {},
   "cell_type": "markdown",
   "source": [
    "# Option Valuation Methods - Homework 2\n",
    "### Andrei Stefan\n"
   ],
   "id": "614f27a5bbcd2cf9"
  },
  {
   "metadata": {},
   "cell_type": "markdown",
   "source": [
    "## Exercise 1: Implied volatility\n",
    "\n",
    "#### 1a)"
   ],
   "id": "dd3ad5afa1d3003f"
  },
  {
   "metadata": {
    "ExecuteTime": {
     "end_time": "2025-01-12T09:47:05.322436Z",
     "start_time": "2025-01-12T09:47:05.307423Z"
    }
   },
   "cell_type": "code",
   "source": [
    "data = pd.DataFrame({'Exercise Price': [5125,5225,5325,5425,5525, 5625,5725, 5825],'Option Price': [485,415,350,290.5,236,189.5,149,115],})\n",
    "T = 4/12\n",
    "r=0.05\n",
    "t=0\n",
    "S = 5420.3\n",
    "data"
   ],
   "id": "1d4e7d5b3cece8c2",
   "outputs": [
    {
     "data": {
      "text/plain": [
       "   Exercise Price  Option Price\n",
       "0            5125         485.0\n",
       "1            5225         415.0\n",
       "2            5325         350.0\n",
       "3            5425         290.5\n",
       "4            5525         236.0\n",
       "5            5625         189.5\n",
       "6            5725         149.0\n",
       "7            5825         115.0"
      ],
      "text/html": [
       "<div>\n",
       "<style scoped>\n",
       "    .dataframe tbody tr th:only-of-type {\n",
       "        vertical-align: middle;\n",
       "    }\n",
       "\n",
       "    .dataframe tbody tr th {\n",
       "        vertical-align: top;\n",
       "    }\n",
       "\n",
       "    .dataframe thead th {\n",
       "        text-align: right;\n",
       "    }\n",
       "</style>\n",
       "<table border=\"1\" class=\"dataframe\">\n",
       "  <thead>\n",
       "    <tr style=\"text-align: right;\">\n",
       "      <th></th>\n",
       "      <th>Exercise Price</th>\n",
       "      <th>Option Price</th>\n",
       "    </tr>\n",
       "  </thead>\n",
       "  <tbody>\n",
       "    <tr>\n",
       "      <th>0</th>\n",
       "      <td>5125</td>\n",
       "      <td>485.0</td>\n",
       "    </tr>\n",
       "    <tr>\n",
       "      <th>1</th>\n",
       "      <td>5225</td>\n",
       "      <td>415.0</td>\n",
       "    </tr>\n",
       "    <tr>\n",
       "      <th>2</th>\n",
       "      <td>5325</td>\n",
       "      <td>350.0</td>\n",
       "    </tr>\n",
       "    <tr>\n",
       "      <th>3</th>\n",
       "      <td>5425</td>\n",
       "      <td>290.5</td>\n",
       "    </tr>\n",
       "    <tr>\n",
       "      <th>4</th>\n",
       "      <td>5525</td>\n",
       "      <td>236.0</td>\n",
       "    </tr>\n",
       "    <tr>\n",
       "      <th>5</th>\n",
       "      <td>5625</td>\n",
       "      <td>189.5</td>\n",
       "    </tr>\n",
       "    <tr>\n",
       "      <th>6</th>\n",
       "      <td>5725</td>\n",
       "      <td>149.0</td>\n",
       "    </tr>\n",
       "    <tr>\n",
       "      <th>7</th>\n",
       "      <td>5825</td>\n",
       "      <td>115.0</td>\n",
       "    </tr>\n",
       "  </tbody>\n",
       "</table>\n",
       "</div>"
      ]
     },
     "execution_count": 44,
     "metadata": {},
     "output_type": "execute_result"
    }
   ],
   "execution_count": 44
  },
  {
   "metadata": {
    "ExecuteTime": {
     "end_time": "2025-01-12T09:47:05.386495Z",
     "start_time": "2025-01-12T09:47:05.371481Z"
    }
   },
   "cell_type": "code",
   "source": [
    "def put_call_value(S, E, r, tau, sigma, option_type='call'):\n",
    "    \"\"\"\n",
    "    Calculate the value of a call or put option using the Black-Scholes formula.\n",
    "    :param S: Asset price at time t\n",
    "    :param E: Exercise price\n",
    "    :param r: interest rate\n",
    "    :param tau: time to expiry (T-t)\n",
    "    :param sigma: volatility\n",
    "    :param option_type: 'call' or 'put'\n",
    "    :return: option value, delta, and vega\n",
    "    \"\"\"\n",
    "    if tau > 0:\n",
    "        d1 = (np.log(S / E) + (r + sigma ** 2 / 2) * tau) / (sigma * np.sqrt(tau))\n",
    "        d2 = d1 - sigma * np.sqrt(tau)\n",
    "        if option_type == 'call':\n",
    "            value = S * stats.norm.cdf(d1) - E * np.exp(-r * tau) * stats.norm.cdf(d2)\n",
    "            delta= stats.norm.cdf(d1)\n",
    "            vega = S * np.sqrt(tau) * np.exp(-d1 ** 2 / 2) / np.sqrt(2 * np.pi)\n",
    "        else:\n",
    "            value = E * np.exp(-r * tau) * stats.norm.cdf(-d2) - S * stats.norm.cdf(-d1)\n",
    "            delta = -stats.norm.cdf(-d1)\n",
    "            vega = S * np.sqrt(tau) * np.exp(-d1 ** 2 / 2) / np.sqrt(2 * np.pi)\n",
    "        return value, delta, vega\n",
    "    else:\n",
    "        if option_type == 'call':\n",
    "            return max(S - E, 0), 1 if S > E else 0,0\n",
    "        else:\n",
    "            return max(E - S, 0), -1 if S < E else 0,0"
   ],
   "id": "b6d95486cfeefbe5",
   "outputs": [],
   "execution_count": 45
  },
  {
   "metadata": {
    "ExecuteTime": {
     "end_time": "2025-01-12T09:47:05.450553Z",
     "start_time": "2025-01-12T09:47:05.435540Z"
    }
   },
   "cell_type": "code",
   "source": [
    "def newtons_method_volatility(S, E, r, tau, C_true, tol=1e-6, max_iter=1000):\n",
    "    \"\"\"\n",
    "    Calculate the implied volatility of an option using Newton's method.\n",
    "    :param S: Asset price at time t\n",
    "    :param E:  Exercise price\n",
    "    :param r: interest rate\n",
    "    :param tau: time to expiry (T-t)\n",
    "    :param C_true: true option price\n",
    "    :param tol: tolerance\n",
    "    :param max_iter: maximum number of iterations\n",
    "    :return: implied volatility\n",
    "    \"\"\"\n",
    "    # initial guess for volatility\n",
    "    sigmahat = np.sqrt(2*abs(np.log(S/E) + r*tau) / tau)\n",
    "\n",
    "    sigma = sigmahat\n",
    "    sigmadiff = 1\n",
    "    k=1\n",
    "    while sigmadiff >= tol and k < max_iter:\n",
    "        C, delta, vega = put_call_value(S, E, r, tau, sigma)\n",
    "        increment = (C-C_true)/vega\n",
    "        if vega == 0:\n",
    "            return sigma\n",
    "        sigma = sigma - increment\n",
    "        sigmadiff = abs(increment)\n",
    "        k += 1\n",
    "    return sigma"
   ],
   "id": "da4aad7aafc0a96f",
   "outputs": [],
   "execution_count": 46
  },
  {
   "metadata": {
    "ExecuteTime": {
     "end_time": "2025-01-12T09:47:05.608696Z",
     "start_time": "2025-01-12T09:47:05.461563Z"
    }
   },
   "cell_type": "code",
   "source": [
    "imp_volatilities = []\n",
    "for i in range(len(data)):\n",
    "    E = data['Exercise Price'][i]\n",
    "    C_true = data['Option Price'][i]\n",
    "    #call_BS = put_call_value(S, E, r, T, 0.2, option_type='call')\n",
    "    #print(call_BS)\n",
    "    implied_volatility = newtons_method_volatility(S, E, r, T, C_true)\n",
    "    imp_volatilities.append(implied_volatility)\n",
    "\n",
    "# print(imp_volatilities)\n",
    "\n",
    "plt.plot(data['Exercise Price'], imp_volatilities, 'o-')\n",
    "# vertical line with the current asset price S\n",
    "plt.axvline(x=S, color='r', linestyle='--', label='Current Asset Price')\n",
    "\n",
    "plt.xlabel('Exercise Price')\n",
    "plt.ylabel('Implied Volatility')\n",
    "plt.title('Implied Volatility vs. Exercise Price')\n",
    "plt.legend()\n",
    "plt.show()"
   ],
   "id": "24a8707a3b5c4695",
   "outputs": [
    {
     "data": {
      "text/plain": [
       "<Figure size 640x480 with 1 Axes>"
      ],
      "image/png": "[encoded data removed]"
     },
     "metadata": {},
     "output_type": "display_data"
    }
   ],
   "execution_count": 47
  },
  {
   "metadata": {},
   "cell_type": "markdown",
   "source": [
    "#### 1b)\n",
    "\n",
    "A for `$AAPL`\n",
    "\n",
    "##### 1. fetching data"
   ],
   "id": "3d57f177f2978868"
  },
  {
   "metadata": {
    "ExecuteTime": {
     "end_time": "2025-01-12T09:47:05.672755Z",
     "start_time": "2025-01-12T09:47:05.642728Z"
    }
   },
   "cell_type": "code",
   "source": [
    "AAPL_17_01 = pd.read_csv('data/aapl-options-exp-2025-01-17.csv')\n",
    "AAPL_24_01 = pd.read_csv('data/aapl-options-exp-2025-01-24.csv')\n",
    "print(AAPL_17_01.head())\n",
    "print(AAPL_24_01.head())"
   ],
   "id": "d1e0d68e109f40d3",
   "outputs": [
    {
     "name": "stdout",
     "output_type": "stream",
     "text": [
      "   Strike Moneyness    Bid    Mid    Ask   Last Change     %Chg Volume  \\\n",
      "0  212.50   +10.28%  24.25  24.93  25.60  24.95  -5.18  -17.19%     41   \n",
      "1  215.00    +9.23%  21.90  22.23  22.55  21.35  -6.30  -22.78%    220   \n",
      "2  217.50    +8.17%  18.75  19.75  20.75  25.34   unch     unch      0   \n",
      "3  220.00    +7.11%  17.00  17.30  17.60  17.30  -5.85  -25.27%  1,667   \n",
      "4  222.50    +6.06%  14.35  15.05  15.75  14.30  -6.55  -31.41%     48   \n",
      "\n",
      "  Open Int OI Chg    Delta      IV  Type Last Trade  \n",
      "0        1     +1  0.93882  56.39%  Call   01/10/25  \n",
      "1   23,386    -45  0.95776  44.77%  Call   01/10/25  \n",
      "2        4     +4  0.95075  41.18%  Call   01/08/25  \n",
      "3   36,713    -48  0.93910  38.12%  Call   01/10/25  \n",
      "4       40    +15  0.90178  38.87%  Call   01/10/25  \n",
      "   Strike Moneyness    Bid    Mid    Ask   Last Change     %Chg Volume  \\\n",
      "0  212.50   +10.28%  23.05  24.90  26.75  25.50   unch     unch      2   \n",
      "1  215.00    +9.23%  22.10  22.78  23.45  22.80  -4.78  -17.33%     17   \n",
      "2  217.50    +8.17%  18.20  20.00  21.80  18.58  -2.29  -10.97%     35   \n",
      "3  220.00    +7.11%  17.50  17.85  18.20  16.97  -6.45  -27.54%     87   \n",
      "4  222.50    +6.06%  15.10  15.52  15.95  15.19  -5.36  -26.08%     38   \n",
      "\n",
      "  Open Int OI Chg    Delta      IV  Type Last Trade  \n",
      "0        0   unch  0.91038  44.73%  Call   01/10/25  \n",
      "1       88    +10  0.91831  38.30%  Call   01/10/25  \n",
      "2        0   unch  0.82988  50.64%  Call   01/10/25  \n",
      "3      116    +12  0.89940  31.91%  Call   01/10/25  \n",
      "4       27    +21  0.90512  26.30%  Call   01/10/25  \n"
     ]
    }
   ],
   "execution_count": 48
  },
  {
   "metadata": {
    "ExecuteTime": {
     "end_time": "2025-01-12T09:47:05.736813Z",
     "start_time": "2025-01-12T09:47:05.706786Z"
    }
   },
   "cell_type": "code",
   "source": [
    "# drop rows with put values\n",
    "AAPL_calls_17_01 = AAPL_17_01[AAPL_17_01['Type'] == 'Call']\n",
    "AAPL_calls_24_01 = AAPL_24_01[AAPL_24_01['Type'] == 'Call']\n",
    "AAPL_calls_17_01.head()"
   ],
   "id": "68a5a1dc35cce7f4",
   "outputs": [
    {
     "data": {
      "text/plain": [
       "   Strike Moneyness    Bid    Mid    Ask   Last Change     %Chg Volume  \\\n",
       "0  212.50   +10.28%  24.25  24.93  25.60  24.95  -5.18  -17.19%     41   \n",
       "1  215.00    +9.23%  21.90  22.23  22.55  21.35  -6.30  -22.78%    220   \n",
       "2  217.50    +8.17%  18.75  19.75  20.75  25.34   unch     unch      0   \n",
       "3  220.00    +7.11%  17.00  17.30  17.60  17.30  -5.85  -25.27%  1,667   \n",
       "4  222.50    +6.06%  14.35  15.05  15.75  14.30  -6.55  -31.41%     48   \n",
       "\n",
       "  Open Int OI Chg    Delta      IV  Type Last Trade  \n",
       "0        1     +1  0.93882  56.39%  Call   01/10/25  \n",
       "1   23,386    -45  0.95776  44.77%  Call   01/10/25  \n",
       "2        4     +4  0.95075  41.18%  Call   01/08/25  \n",
       "3   36,713    -48  0.93910  38.12%  Call   01/10/25  \n",
       "4       40    +15  0.90178  38.87%  Call   01/10/25  "
      ],
      "text/html": [
       "<div>\n",
       "<style scoped>\n",
       "    .dataframe tbody tr th:only-of-type {\n",
       "        vertical-align: middle;\n",
       "    }\n",
       "\n",
       "    .dataframe tbody tr th {\n",
       "        vertical-align: top;\n",
       "    }\n",
       "\n",
       "    .dataframe thead th {\n",
       "        text-align: right;\n",
       "    }\n",
       "</style>\n",
       "<table border=\"1\" class=\"dataframe\">\n",
       "  <thead>\n",
       "    <tr style=\"text-align: right;\">\n",
       "      <th></th>\n",
       "      <th>Strike</th>\n",
       "      <th>Moneyness</th>\n",
       "      <th>Bid</th>\n",
       "      <th>Mid</th>\n",
       "      <th>Ask</th>\n",
       "      <th>Last</th>\n",
       "      <th>Change</th>\n",
       "      <th>%Chg</th>\n",
       "      <th>Volume</th>\n",
       "      <th>Open Int</th>\n",
       "      <th>OI Chg</th>\n",
       "      <th>Delta</th>\n",
       "      <th>IV</th>\n",
       "      <th>Type</th>\n",
       "      <th>Last Trade</th>\n",
       "    </tr>\n",
       "  </thead>\n",
       "  <tbody>\n",
       "    <tr>\n",
       "      <th>0</th>\n",
       "      <td>212.50</td>\n",
       "      <td>+10.28%</td>\n",
       "      <td>24.25</td>\n",
       "      <td>24.93</td>\n",
       "      <td>25.60</td>\n",
       "      <td>24.95</td>\n",
       "      <td>-5.18</td>\n",
       "      <td>-17.19%</td>\n",
       "      <td>41</td>\n",
       "      <td>1</td>\n",
       "      <td>+1</td>\n",
       "      <td>0.93882</td>\n",
       "      <td>56.39%</td>\n",
       "      <td>Call</td>\n",
       "      <td>01/10/25</td>\n",
       "    </tr>\n",
       "    <tr>\n",
       "      <th>1</th>\n",
       "      <td>215.00</td>\n",
       "      <td>+9.23%</td>\n",
       "      <td>21.90</td>\n",
       "      <td>22.23</td>\n",
       "      <td>22.55</td>\n",
       "      <td>21.35</td>\n",
       "      <td>-6.30</td>\n",
       "      <td>-22.78%</td>\n",
       "      <td>220</td>\n",
       "      <td>23,386</td>\n",
       "      <td>-45</td>\n",
       "      <td>0.95776</td>\n",
       "      <td>44.77%</td>\n",
       "      <td>Call</td>\n",
       "      <td>01/10/25</td>\n",
       "    </tr>\n",
       "    <tr>\n",
       "      <th>2</th>\n",
       "      <td>217.50</td>\n",
       "      <td>+8.17%</td>\n",
       "      <td>18.75</td>\n",
       "      <td>19.75</td>\n",
       "      <td>20.75</td>\n",
       "      <td>25.34</td>\n",
       "      <td>unch</td>\n",
       "      <td>unch</td>\n",
       "      <td>0</td>\n",
       "      <td>4</td>\n",
       "      <td>+4</td>\n",
       "      <td>0.95075</td>\n",
       "      <td>41.18%</td>\n",
       "      <td>Call</td>\n",
       "      <td>01/08/25</td>\n",
       "    </tr>\n",
       "    <tr>\n",
       "      <th>3</th>\n",
       "      <td>220.00</td>\n",
       "      <td>+7.11%</td>\n",
       "      <td>17.00</td>\n",
       "      <td>17.30</td>\n",
       "      <td>17.60</td>\n",
       "      <td>17.30</td>\n",
       "      <td>-5.85</td>\n",
       "      <td>-25.27%</td>\n",
       "      <td>1,667</td>\n",
       "      <td>36,713</td>\n",
       "      <td>-48</td>\n",
       "      <td>0.93910</td>\n",
       "      <td>38.12%</td>\n",
       "      <td>Call</td>\n",
       "      <td>01/10/25</td>\n",
       "    </tr>\n",
       "    <tr>\n",
       "      <th>4</th>\n",
       "      <td>222.50</td>\n",
       "      <td>+6.06%</td>\n",
       "      <td>14.35</td>\n",
       "      <td>15.05</td>\n",
       "      <td>15.75</td>\n",
       "      <td>14.30</td>\n",
       "      <td>-6.55</td>\n",
       "      <td>-31.41%</td>\n",
       "      <td>48</td>\n",
       "      <td>40</td>\n",
       "      <td>+15</td>\n",
       "      <td>0.90178</td>\n",
       "      <td>38.87%</td>\n",
       "      <td>Call</td>\n",
       "      <td>01/10/25</td>\n",
       "    </tr>\n",
       "  </tbody>\n",
       "</table>\n",
       "</div>"
      ]
     },
     "execution_count": 49,
     "metadata": {},
     "output_type": "execute_result"
    }
   ],
   "execution_count": 49
  },
  {
   "metadata": {},
   "cell_type": "markdown",
   "source": "##### 2. predefine useful functions",
   "id": "f7e3645771138745"
  },
  {
   "metadata": {
    "ExecuteTime": {
     "end_time": "2025-01-12T09:47:05.832724Z",
     "start_time": "2025-01-12T09:47:05.817710Z"
    }
   },
   "cell_type": "code",
   "source": [
    "from scipy.interpolate import CubicSpline\n",
    "\n",
    "def rfrate(T_option):\n",
    "    \"\"\"\n",
    "    Calculate the risk-free rate for a given option maturity using a cubic spline interpolation.\n",
    "    :param T_option: option time to maturity (w.r.t. 10th January 2025) (in years)\n",
    "    :return: risk-free rate\n",
    "    \"\"\"\n",
    "    maturities = np.array([1/12,1/6,1/4,1/3,1/2,1,2,3,5,7,10,20,30])  # years\n",
    "    yields = np.array([4.42,4.35,4.36,4.33,4.27,4.25,4.40,4.46,4.59,4.70,4.77,5.04,4.96 ])\n",
    "    # sourced from treasury.gov @ 2025-01-10\n",
    "    spline = CubicSpline(maturities, yields)\n",
    "    risk_free_rate = spline(T_option)\n",
    "    return risk_free_rate"
   ],
   "id": "fbe0817b1177baf3",
   "outputs": [],
   "execution_count": 50
  },
  {
   "metadata": {
    "ExecuteTime": {
     "end_time": "2025-01-12T09:47:05.894779Z",
     "start_time": "2025-01-12T09:47:05.880767Z"
    }
   },
   "cell_type": "code",
   "source": "",
   "id": "9dac278158b5b0a8",
   "outputs": [],
   "execution_count": null
  },
  {
   "metadata": {},
   "cell_type": "markdown",
   "source": "#### 1c)",
   "id": "28e0c1b02ea784bd"
  },
  {
   "metadata": {
    "ExecuteTime": {
     "end_time": "2025-01-12T09:47:05.958838Z",
     "start_time": "2025-01-12T09:47:05.951832Z"
    }
   },
   "cell_type": "code",
   "source": "",
   "id": "d1427a58d2d344d4",
   "outputs": [],
   "execution_count": null
  },
  {
   "metadata": {},
   "cell_type": "markdown",
   "source": "## Exercise 2: Binomial method",
   "id": "b11158daf9d8a450"
  },
  {
   "metadata": {
    "ExecuteTime": {
     "end_time": "2025-01-12T10:09:15.794817Z",
     "start_time": "2025-01-12T10:09:15.781034Z"
    }
   },
   "cell_type": "code",
   "source": [
    "### Parameters ###\n",
    "# American Put Option\n",
    "S0 = 9\n",
    "T = 1\n",
    "r = 0.06\n",
    "sigma = 0.3\n",
    "E = 10\n",
    "##################"
   ],
   "id": "32e91a965060c03b",
   "outputs": [],
   "execution_count": 85
  },
  {
   "metadata": {
    "ExecuteTime": {
     "end_time": "2025-01-12T10:49:32.815688Z",
     "start_time": "2025-01-12T10:49:32.802687Z"
    }
   },
   "cell_type": "code",
   "source": [
    "def binomial_method_american_put(S0, E, r, T, sigma, M):\n",
    "    \"\"\"\n",
    "    Calculate the value of an American put option using the binomial method.\n",
    "    :param S0: initial asset price\n",
    "    :param E: exercise price\n",
    "    :param r: interest rate\n",
    "    :param T: time to maturity\n",
    "    :param sigma: volatility\n",
    "    :param M: number of time steps\n",
    "    :return: option value\n",
    "    \"\"\"\n",
    "    dt = T / M\n",
    "    u = np.exp(sigma * np.sqrt(dt) + (r-0.5*sigma**2) * dt)\n",
    "    d = np.exp(-sigma * np.sqrt(dt) + (r-0.5*sigma**2) * dt)\n",
    "    p = (np.exp(r * dt) - d) / (u - d)\n",
    "\n",
    "    # Compute stock price tree\n",
    "    dpowers = d ** np.arange(start=M, stop=-1, step=-1)\n",
    "    upowers = u ** np.arange(start=0, stop=M + 1, step=1)\n",
    "    S = S0 * dpowers * upowers\n",
    "\n",
    "    # Initialize option payoff at maturity\n",
    "    W = np.maximum(E - S, 0)\n",
    "    exercise_boundary = []\n",
    "    # Perform backward induction\n",
    "    for i in range(M, 0, -1):\n",
    "        Si = S0 * dpowers[M - i + 1:M + 1] * upowers[:i]\n",
    "        continuation_value = np.exp(-r * dt) * (p * W[1:i + 1] + (1 - p) * W[:i])\n",
    "        exercise_value = E - Si\n",
    "        # Update option value with early exercise consideration\n",
    "        W = np.maximum(exercise_value, continuation_value)\n",
    "\n",
    "        # Determine the exercise boundary (maximum stock price where early exercise occurs)\n",
    "        boundary_price = np.max(Si[exercise_value > continuation_value]) if np.any(exercise_value > continuation_value) else np.nan\n",
    "        exercise_boundary.append(boundary_price)\n",
    "\n",
    "    return [W[0], exercise_boundary]"
   ],
   "id": "46e3a0b2d74753f5",
   "outputs": [],
   "execution_count": 110
  },
  {
   "metadata": {
    "ExecuteTime": {
     "end_time": "2025-01-12T10:48:11.346093Z",
     "start_time": "2025-01-12T10:48:11.333081Z"
    }
   },
   "cell_type": "code",
   "source": [
    "# Fig 18.1\n",
    "# ms = np.arange(200,800,1)\n",
    "# S0 = 9\n",
    "# T = 1\n",
    "# r = 0.06\n",
    "# sigma = 0.3\n",
    "# E = 10\n",
    "# put_values = []\n",
    "# for m in ms:\n",
    "#     put_values.append(binomial_method_american_put(S0, E, r, T, sigma, m)[0])\n",
    "#\n",
    "# plt.plot(ms, put_values, 'x')\n",
    "# plt.xlabel('Number of Time Steps')\n",
    "# plt.ylabel('Option Value')\n",
    "# plt.title('Option Value vs. Number of Time Steps')\n",
    "# plt.show()\n",
    "# print(put_values)"
   ],
   "id": "435d2c8374a8de20",
   "outputs": [],
   "execution_count": 106
  },
  {
   "metadata": {
    "ExecuteTime": {
     "end_time": "2025-01-12T10:48:11.867047Z",
     "start_time": "2025-01-12T10:48:11.853034Z"
    }
   },
   "cell_type": "code",
   "source": [
    "# Fig 18.3\n",
    "# T = 1\n",
    "# r = 0.06\n",
    "# sigma = 0.3\n",
    "# E = 10\n",
    "#\n",
    "# M =100\n",
    "# S0s = np.arange(0, 20, 0.2)\n",
    "# put_values = []\n",
    "# for S0 in S0s:\n",
    "#     put_values.append(binomial_method_american_put(S0, E, r, T, sigma, M))\n",
    "# hockey = np.maximum(E-S0s,0)\n",
    "# plt.plot(S0s, put_values, '-')\n",
    "# plt.plot(S0s, hockey, 'r--', label='Hockey Stick')\n",
    "# plt.xlabel('Initial Asset Price')\n",
    "# plt.ylabel('Option Value')\n",
    "# plt.title('Option Value vs. Initial Asset Price')\n",
    "# plt.legend()\n",
    "# plt.show()"
   ],
   "id": "79e36210f70b6641",
   "outputs": [],
   "execution_count": 107
  },
  {
   "metadata": {
    "ExecuteTime": {
     "end_time": "2025-01-12T10:54:45.026823Z",
     "start_time": "2025-01-12T10:54:44.906714Z"
    }
   },
   "cell_type": "code",
   "source": [
    "# Fig 18.4\n",
    "S0=9\n",
    "T = 1\n",
    "r = 0.06\n",
    "sigma = 0.3\n",
    "E = 10\n",
    "M = 1000\n",
    "x = binomial_method_american_put(S0, E, r, T, sigma, M)\n",
    "boundary = x[1][::-1]\n",
    "print(boundary)\n",
    "plt.plot(np.linspace(0, T , M), boundary, linestyle='-',label='Exercise Boundary')\n",
    "plt.ylim(0, 12)\n",
    "plt.axline((0, E), slope=0, color='r', linestyle='--', label='Exercise Price')\n",
    "plt.xlabel('t')\n",
    "plt.ylabel('S')\n",
    "plt.legend()\n",
    "plt.show()"
   ],
   "id": "339bf466e80ce9de",
   "outputs": [
    {
     "name": "stdout",
     "output_type": "stream",
     "text": [
      "[nan, nan, nan, nan, nan, nan, nan, nan, nan, nan, nan, nan, nan, nan, nan, nan, nan, nan, nan, nan, nan, nan, nan, nan, nan, 7.102371574305725, 7.035416690301834, 7.102584648649055, 7.035627755968512, 7.10279772938471, 7.0358388279672575, 7.103010816512884, 7.036049906298257, 7.103223910033766, 7.036260990961699, 7.103437009947551, 7.036472081957778, 7.103650116254427, 7.036683179286681, 7.103863228954591, 7.0368942829486, 7.10407634804823, 7.037105392943722, 7.104289473535539, 7.037316509272241, 7.104502605416709, 7.037527631934346, 7.104715743691931, 7.037738760930223, 7.104928888361396, 7.0379498962600655, 7.105142039425297, 7.038161037924063, 7.105355196883826, 7.038372185922405, 7.105568360737175, 7.0385833402552835, 7.105781530985537, 7.0387945009228865, 7.1059947076291, 7.039005667925402, 7.106207890668058, 7.039216841263025, 7.106421080102605, 7.0394280209359446, 7.106634275932932, 7.039639206944346, 7.106847478159227, 7.039850399288426, 7.107060686781686, 7.040061597968369, 7.1072739018004985, 7.040272802984369, 7.10748712321586, 7.040484014336612, 7.107700351027957, 7.040695232025293, 7.107913585236987, 7.175773680046575, 7.108126825843138, 7.175988956486108, 7.1083400728466035, 7.176204239384031, 7.108553326247575, 7.176419528740539, 7.108766586046244, 7.176634824555821, 7.108979852242801, 7.176850126830076, 7.109193124837445, 7.177065435563498, 7.109406403830358, 7.177280750756276, 7.109619689221738, 7.1774960724086085, 7.109832981011777, 7.177711400520687, 7.110046279200665, 7.177926735092706, 7.1102595837885945, 7.178142076124859, 7.110472894775757, 7.178357423617339, 7.110686212162346, 7.1785727775703405, 7.110899535948553, 7.17878813798406, 7.111112866134569, 7.179003504858688, 7.111326202720587, 7.179218878194418, 7.1115395457067985, 7.179434257991445, 7.111752895093394, 7.179649644249963, 7.111966250880569, 7.179865036970167, 7.1121796130685135, 7.180080436152247, 7.112392981657417, 7.180295841796401, 7.112606356647477, 7.1805112539028215, 7.1128197380388825, 7.180726672471701, 7.1130331258318265, 7.1809420975032365, 7.1132465200264985, 7.181157528997618, 7.113459920623094, 7.181372966955043, 7.113673327621802, 7.181588411375702, 7.113886741022816, 7.181803862259792, 7.114100160826329, 7.1820193196075035, 7.114313587032532, 7.182234783419034, 7.114527019641617, 7.182450253694576, 7.114740458653776, 7.182665730434323, 7.114953904069202, 7.182881213638468, 7.115167355888087, 7.183096703307207, 7.11538081411062, 7.183312199440732, 7.115594278736998, 7.183527702039239, 7.11580774976741, 7.183743211102921, 7.116021227202049, 7.183958726631971, 7.116234711041106, 7.184174248626585, 7.1164482012847765, 7.184389777086954, 7.11666169793325, 7.184605312013276, 7.116875200986718, 7.184820853405743, 7.117088710445374, 7.185036401264546, 7.117302226309411, 7.185251955589884, 7.117515748579019, 7.185467516381948, 7.117729277254392, 7.1856830836409324, 7.117942812335719, 7.185898657367033, 7.1181563538231964, 7.186114237560441, 7.118369901717015, 7.186329824221353, 7.118583456017366, 7.1865454173499606, 7.11879701672444, 7.18676101694646, 7.119010583838435, 7.186976623011044, 7.255591542028178, 7.1871922355439075, 7.2558092130394884, 7.187407854545243, 7.256026890581028, 7.187623480015246, 7.256244574652991, 7.187839111954111, 7.256462265255574, 7.188054750362029, 7.256679962388972, 7.188270395239197, 7.256897666053383, 7.188486046585809, 7.257115376249002, 7.18870170440206, 7.257333092976026, 7.18891736868814, 7.257550816234647, 7.189133039444247, 7.257768546025067, 7.189348716670573, 7.257986282347478, 7.189564400367315, 7.258204025202076, 7.189780090534663, 7.258421774589057, 7.189995787172813, 7.258639530508617, 7.190211490281959, 7.258857292960954, 7.190427199862295, 7.259075061946262, 7.190642915914017, 7.259292837464736, 7.190858638437316, 7.259510619516576, 7.19107436743239, 7.259728408101975, 7.191290102899429, 7.259946203221129, 7.1915058448386295, 7.260164004874235, 7.191721593250184, 7.260381813061488, 7.191937348134291, 7.260599627783086, 7.192153109491139, 7.260817449039222, 7.192368877320927, 7.2610352768300945, 7.192584651623845, 7.2612531111558996, 7.192800432400089, 7.26147095201683, 7.193016219649856, 7.261688799413087, 7.193232013373335, 7.261906653344863, 7.193447813570725, 7.262124513812355, 7.193663620242216, 7.262342380815759, 7.1938794333880045, 7.262560254355271, 7.194095253008286, 7.2627781344310876, 7.194311079103251, 7.262996021043403, 7.194526911673097, 7.2632139141924155, 7.194742750718019, 7.263431813878323, 7.194958596238208, 7.263649720101316, 7.195174448233859, 7.2638676328615945, 7.195390306705167, 7.264085552159354, 7.195606171652328, 7.264303477994791, 7.195822043075535, 7.264521410368102, 7.196037920974978, 7.26473934927948, 7.196253805350858, 7.264957294729124, 7.196469696203366, 7.265175246717232, 7.196685593532696, 7.265393205243996, 7.196901497339046, 7.265611170309613, 7.334976822684856, 7.26582914191428, 7.33519687529031, 7.266047120058195, 7.335416934497441, 7.266265104741552, 7.335637000306448, 7.2664830959645474, 7.335857072717528, 7.266701093727376, 7.336077151730877, 7.266919098030237, 7.336297237346699, 7.267137108873324, 7.3365173295651855, 7.267355126256836, 7.33673742838654, 7.267573150180966, 7.336957533810955, 7.267791180645914, 7.337177645838636, 7.268009217651874, 7.337397764469776, 7.268227261199041, 7.337617889704572, 7.268445311287612, 7.337838021543225, 7.268663367917784, 7.338058159985932, 7.2688814310897545, 7.338278305032892, 7.2690995008037165, 7.338498456684302, 7.269317577059869, 7.338718614940359, 7.269535659858407, 7.338938779801266, 7.269753749199528, 7.339158951267217, 7.269971845083427, 7.33937912933841, 7.2701899475103, 7.339599314015043, 7.270408056480343, 7.339819505297318, 7.270626171993756, 7.34003970318543, 7.270844294050731, 7.340259907679576, 7.2710624226514655, 7.340480118779958, 7.271280557796157, 7.340700336486771, 7.271498699485001, 7.340920560800217, 7.271716847718194, 7.341140791720488, 7.27193500249593, 7.341361029247785, 7.272153163818409, 7.3415812733823085, 7.272371331685826, 7.341801524124256, 7.272589506098377, 7.342021781473825, 7.272807687056259, 7.342242045431212, 7.273025874559669, 7.342462315996618, 7.2732440686088, 7.342682593170239, 7.2734622692038515, 7.342902876952276, 7.273680476345019, 7.343123167342926, 7.2738986900325004, 7.343343464342384, 7.274116910266488, 7.343563767950854, 7.274335137047184, 7.343784078168529, 7.274553370374777, 7.34400439499561, 7.41411847679333, 7.344224718432297, 7.414340903684024, 7.344445048478786, 7.414563337247622, 7.344665385135273, 7.414785777484326, 7.344885728401961, 7.415008224394337, 7.345106078279045, 7.415230677977858, 7.345326434766725, 7.415453138235085, 7.3455467978651985, 7.4156756051662205, 7.345767167574665, 7.415898078771465, 7.345987543895321, 7.416120559051015, 7.346207926827367, 7.416343046005076, 7.346428316370997, 7.416565539633843, 7.346648712526416, 7.41678803993752, 7.346869115293816, 7.417010546916308, 7.347089524673401, 7.417233060570404, 7.347309940665365, 7.41745558090001, 7.347530363269908, 7.417678107905328, 7.347750792487229, 7.417900641586554, 7.347971228317525, 7.418123181943891, 7.348191670760996, 7.418345728977538, 7.34841211981784, 7.418568282687698, 7.348632575488252, 7.418790843074568, 7.348853037772436, 7.4190134101383505, 7.349073506670589, 7.419235983879246, 7.349293982182903, 7.419458564297451, 7.3495144643095855, 7.4196811513931715, 7.34973495305083, 7.419903745166603, 7.349955448406837, 7.42012634561795, 7.350175950377802, 7.420348952747409, 7.350396458963926, 7.420571566555183, 7.3506169741654075, 7.420794187041471, 7.350837495982445, 7.421016814206473, 7.351058024415234, 7.421239448050391, 7.351278559463977, 7.421462088573425, 7.35149910112887, 7.4216847357757745, 7.351719649410113, 7.4219073896576395, 7.351940204307902, 7.422130050219222, 7.492990006921999, 7.422352717460721, 7.493214799994086, 7.422575391382337, 7.493439599810067, 7.422798071984272, 7.493664406370144, 7.423020759266726, 7.493889219674519, 7.423243453229897, 7.494114039723394, 7.423466153873988, 7.49433886651697, 7.423688861199198, 7.494563700055454, 7.423911575205728, 7.4947885403390435, 7.424134295893779, 7.495013387367944, 7.42435702326355, 7.495238241142355, 7.424579757315243, 7.495463101662481, 7.424802498049058, 7.495687968928524, 7.425025245465195, 7.495912842940686, 7.4252479995638545, 7.496137723699169, 7.425470760345237, 7.4963626112041775, 7.4256935278095435, 7.49658750545591, 7.425916301956974, 7.496812406454573, 7.426139082787729, 7.497037314200367, 7.42636187030201, 7.497262228693495, 7.426584664500016, 7.497487149934157, 7.426807465381947, 7.497712077922558, 7.4270302729480075, 7.4979370126589036, 7.427253087198395, 7.498161954143389, 7.427475908133308, 7.49838690237622, 7.4276987357529505, 7.4986118573575995, 7.427921570057521, 7.498836819087731, 7.428144411047222, 7.499061787566814, 7.428367258722253, 7.4992867627950535, 7.428590113082813, 7.499511744772651, 7.428812974129105, 7.49973673349981, 7.429035841861331, 7.499961728976731, 7.429258716279686, 7.500186731203616, 7.571791904306199, 7.500411740180671, 7.5720190614706695, 7.500636755908096, 7.572246225449956, 7.500861778386095, 7.572473396244267, 7.501086807614869, 7.572700573853802, 7.501311843594621, 7.572927758278769, 7.501536886325554, 7.573154949519367, 7.501761935807869, 7.573382147575809, 7.501986992041773, 7.573609352448293, 7.502212055027462, 7.573836564137025, 7.502437124765144, 7.574063782642212, 7.502662201255016, 7.574291007964054, 7.502887284497287, 7.574518240102759, 7.503112374492154, 7.574745479058529, 7.503337471239826, 7.574972724831572, 7.503562574740498, 7.575199977422089, 7.50378768499438, 7.575427236830287, 7.504012802001667, 7.575654503056369, 7.504237925762569, 7.57588177610054, 7.504463056277283, 7.576109055963005, 7.504688193546014, 7.576336342643967, 7.504913337568964, 7.576563636143634, 7.505138488346338, 7.576790936462207, 7.505363645878335, 7.577018243599891, 7.505588810165159, 7.577245557556893, 7.505813981207015, 7.577472878333415, 7.506039159004101, 7.577700205929662, 7.506264343556624, 7.57792754034584, 7.506489534864784, 7.578154881582154, 7.650504425872338, 7.578382229638804, 7.650733944447875, 7.578609584516001, 7.650963469909074, 7.578836946213945, 7.65119300225614, 7.579064314732843, 7.651422541489281, 7.579291690072901, 7.651652087608701, 7.5795190722343175, 7.651881640614608, 7.5797464612173036, 7.652111200507209, 7.579973857022061, 7.652340767286709, 7.580201259648795, 7.652570340953316, 7.58042866909771, 7.652799921507237, 7.58065608536901, 7.653029508948677, 7.580883508462901, 7.653259103277844, 7.581110938379589, 7.6534887044949445, 7.581338375119274, 7.653718312600184, 7.581565818682164, 7.65394792759377, 7.581793269068465, 7.65417754947591, 7.582020726278379, 7.654407178246809, 7.582248190312112, 7.654636813906675, 7.582475661169869, 7.654866456455716, 7.582703138851852, 7.655096105894134, 7.582930623358269, 7.655325762222139, 7.583158114689323, 7.655555425439938, 7.583385612845221, 7.655785095547736, 7.5836131178261645, 7.656014772545743, 7.58384062963236, 7.65624445643416, 7.584068148264013, 7.656474147213199, 7.7295714148299846, 7.656703844883063, 7.729803305450771, 7.656933549443962, 7.730035203028382, 7.6571632608961, 7.730267107563023, 7.657392979239685, 7.730499019054905, 7.657622704474924, 7.730730937504237, 7.657852436602024, 7.730962862911227, 7.658082175621191, 7.7311947952760836, 7.658311921532633, 7.731426734599016, 7.658541674336555, 7.731658680880232, 7.658771434033164, 7.73189063411994, 7.659001200622667, 7.73212259431835, 7.659230974105271, 7.7323545614756695, 7.6594607544811835, 7.732586535592109, 7.65969054175061, 7.732818516667876, 7.659920335913759, 7.73305050470318, 7.660150136970835, 7.73328249969823, 7.660379944922048, 7.733514501653233, 7.660609759767603, 7.7337465105684, 7.660839581507705, 7.7339785264439405, 7.661069410142563, 7.734210549280057, 7.661299245672383, 7.734442579076968, 7.661529088097375, 7.734674615834874, 7.808518472609108, 7.734906659553987, 7.808752731677155, 7.735138710234518, 7.80898699777308, 7.735370767876675, 7.809221270897094, 7.735602832480663, 7.809455551049407, 7.735834904046695, 7.80968983823023, 7.736066982574977, 7.809924132439773, 7.736299068065721, 7.8101584336782475, 7.736531160519132, 7.810392741945864, 7.736763259935421, 7.810627057242836, 7.7369953663148, 7.810861379569372, 7.737227479657474, 7.811095708925683, 7.737459599963651, 7.811330045311978, 7.737691727233542, 7.811564388728473, 7.737923861467356, 7.811798739175376, 7.738156002665301, 7.812033096652895, 7.738388150827587, 7.812267461161246, 7.738620305954424, 7.812501832700639, 7.738852468046015, 7.812736211271279, 7.739084637102577, 7.812970596873386, 7.739316813124312, 7.813204989507164, 7.739548996111436, 7.813439389172829, 7.88803522258863, 7.813673795870588, 7.888271867194959, 7.813908209600652, 7.888508518900732, 7.814142630363235, 7.888745177706165, 7.814377058158546, 7.888981843611467, 7.814611492986796, 7.889218516616854, 7.814845934848197, 7.889455196722537, 7.815080383742958, 7.8896918839287284, 7.815314839671293, 7.889928578235645, 7.815549302633411, 7.8901652796434965, 7.8157837726295245, 7.8904019881524965, 7.816018249659842, 7.89063870376286, 7.816252733724576, 7.890875426474796, 7.816487224823938, 7.89111215628852, 7.816721722958137, 7.8913488932042455, 7.8169562281273866, 7.891585637222185, 7.817190740331897, 7.891822388342551, 7.817425259571879, 7.892059146565559, 7.817659785847544, 7.892295911891418, 7.967644597891014, 7.8925326843203445, 7.967883630814427, 7.892769463852551, 7.9681226709089366, 7.8930062504882486, 7.968361718174755, 7.893243044227653, 7.9686007726121, 7.893479845070974, 7.968839834221185, 7.89371665301843, 7.969078903002227, 7.8939534680702295, 7.969317978955439, 7.894190290226586, 7.969557062081036, 7.894427119487714, 7.969796152379237, 7.894663955853828, 7.970035249850254, 7.89490079932514, 7.970274354494301, 7.89513764990186, 7.970513466311596, 7.895374507584206, 7.970752585302353, 7.895611372372388, 7.970991711466787, 7.89584824426662, 7.971230844805115, 7.8960851232671185, 7.971469985317551, 8.047574555595244, 7.971709133004309, 8.047815986453356, 7.971948287865604, 8.048057424554505, 7.972187449901654, 8.048298869898904, 7.972426619112671, 8.048540322486772, 7.972665795498872, 8.048781782318327, 7.972904979060474, 8.049023249393786, 7.97314416979769, 8.049264723713364, 7.973383367710737, 8.049506205277282, 7.973622572799826, 8.049747694085756, 7.973861785065178, 8.049989190139001, 7.974101004507004, 8.05023069343724, 7.974340231125522, 8.050472203980682, 7.974579464920946, 8.050713721769553, 7.974818705893491, 8.050955246804063, 7.975057954043372, 8.051196779084433, 8.128062510526934, 8.05143831861088, 8.128306356059914, 8.051679865383624, 8.128550208908374, 8.05192141940288, 8.128794069072525, 8.052162980668863, 8.129037936552592, 8.052404549181794, 8.129281811348791, 8.052646124941889, 8.129525693461348, 8.052887707949365, 8.129769582890475, 8.05312929820444, 8.130013479636395, 8.05337089570733, 8.130257383699327, 8.053612500458255, 8.130501295079492, 8.053854112457433, 8.130745213777109, 8.054095731705079, 8.130989139792394, 8.054337358201408, 8.13123307312557, 8.208862920568738, 8.131477013776857, 8.20910919015038, 8.131720961746472, 8.209355467120222, 8.131964917034637, 8.209601751478482, 8.132208879641569, 8.209848043225387, 8.132452849567489, 8.21009434236115, 8.132696826812618, 8.210340648886003, 8.132940811377173, 8.21058696280016, 8.133184803261376, 8.210833284103847, 8.133428802465446, 8.211079612797285, 8.1336728089896, 8.211325948880692, 8.133916822834058, 8.21157229235429, 8.289969147860852, 8.21181864321831, 8.290217850665815, 8.212065001472961, 8.290466560931971, 8.212311367118474, 8.290715278659547, 8.212557740155063, 8.290964003848766, 8.212804120582957, 8.291212736499853, 8.213050508402375, 8.291461476613033, 8.213296903613536, 8.291710224188526, 8.213543306216668, 8.29195897922656, 8.213789716211986, 8.292207741727356, 8.214036133599715, 8.292456511691139, 8.371625578441828, 8.292705289118135, 8.371876730976451, 8.292954074008563, 8.372127891045764, 8.293202866362652, 8.372379058649992, 8.293451666180621, 8.37263023378936, 8.293700473462698, 8.372881416464097, 8.293949288209108, 8.373132606674424, 8.294198110420067, 8.373383804420575, 8.294446940095808, 8.373635009702769, 8.29469577723655, 8.373886222521232, 8.45383270838809, 8.374137442876195, 8.454086327173608, 8.374388670767884, 8.454339953567798, 8.374639906196519, 8.454593587570898, 8.374891149162332, 8.454847229183132, 8.375142399665547, 8.455100878404727, 8.375393657706388, 8.455354535235912, 8.375644923285085, 8.455608199676918, 8.375896196401865, 8.455861871727974, 8.536590988849493, 8.456115551389303, 8.536847090420665, 8.456369238661132, 8.537103199674997, 8.456622933543699, 8.537359316612722, 8.456876636037224, 8.537615441234074, 8.45713034614194, 8.537871573539276, 8.45738406385807, 8.538127713528562, 8.457637789185847, 8.538383861202165, 8.61990082555374, 8.538640016560313, 8.620159426457501, 8.538896179603238, 8.620418035119407, 8.539152350331168, 8.62067665153969, 8.539408528744335, 8.62093527571858, 8.539664714842973, 8.62119390765631, 8.539920908627307, 8.621452547353119, 8.540177110097568, 8.621711194809233, 8.704023695106905, 8.621969850024886, 8.704284819734607, 8.622228513000314, 8.704545952196169, 8.622487183735746, 8.704807092491821, 8.622745862231417, 8.705068240621797, 8.62300454848756, 8.705329396586336, 8.788440209783055, 8.705590560385675, 8.78870386694419, 8.70585173202004, 8.788967532015151, 8.706112911489674, 8.78923120499619, 8.70637409879481, 8.789494885887533, 8.706635293935683, 8.789758574689424, 8.873675443272449, 8.790022271402098, 8.87394165752894, 8.790285976025789, 8.874207879771982, 8.79054968856074, 8.874474110001808, 8.959199767857408, 8.874740348218662, 8.959468547882125, 8.875006594422782, 8.959737335970363, 8.875272848614408, 8.960006132122366, 8.875539110793781, 8.960274936338372, 9.045819744868796, 8.96054374861863, 9.046091123531804, 8.960812568963373, 9.046362510336293, 8.961081397372848, 9.046633905282507, 9.133003193141489, 9.046905308370693, 9.133277187347177, 9.047176719601092, 9.133551189772815, 9.220750287265155, 9.133825200418649, 9.221026913923152, 9.134099219284925, 9.221303548880076, 9.309340428562278, 9.221580192136171, 9.30961971296438, 9.39849975754949, 9.309899005745141, 9.398781716771586, 9.488513001591853, 9.399063684452583, 9.488797661251775, 9.579388338980179, 9.670843896663268, 9.763172591412644]\n"
     ]
    },
    {
     "data": {
      "text/plain": [
       "<Figure size 640x480 with 1 Axes>"
      ],
      "image/png": "[encoded data removed]"
     },
     "metadata": {},
     "output_type": "display_data"
    }
   ],
   "execution_count": 121
  },
  {
   "metadata": {},
   "cell_type": "code",
   "outputs": [],
   "execution_count": null,
   "source": "",
   "id": "7a1e2efb30a8ebef"
  }
 ],
 "metadata": {
  "kernelspec": {
   "display_name": "Python 3",
   "language": "python",
   "name": "python3"
  },
  "language_info": {
   "codemirror_mode": {
    "name": "ipython",
    "version": 2
   },
   "file_extension": ".py",
   "mimetype": "text/x-python",
   "name": "python",
   "nbconvert_exporter": "python",
   "pygments_lexer": "ipython2",
   "version": "2.7.6"
  }
 },
 "nbformat": 4,
 "nbformat_minor": 5
}
