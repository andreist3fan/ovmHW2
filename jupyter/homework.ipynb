{
 "cells": [
  {
   "metadata": {
    "ExecuteTime": {
     "end_time": "2025-01-12T08:22:08.979920Z",
     "start_time": "2025-01-12T08:22:08.962734Z"
    }
   },
   "cell_type": "code",
   "source": [
    "import numpy as np\n",
    "import scipy.stats as stats\n",
    "import matplotlib.pyplot as plt\n",
    "import pandas as pd"
   ],
   "id": "9e47e1d00c644857",
   "outputs": [],
   "execution_count": 25
  },
  {
   "metadata": {},
   "cell_type": "markdown",
   "source": [
    "# Option Valuation Methods - Homework 2\n",
    "### Andrei Stefan\n"
   ],
   "id": "614f27a5bbcd2cf9"
  },
  {
   "metadata": {},
   "cell_type": "markdown",
   "source": [
    "## Exercise 1: Implied volatility\n",
    "\n",
    "#### 1a)"
   ],
   "id": "dd3ad5afa1d3003f"
  },
  {
   "metadata": {
    "ExecuteTime": {
     "end_time": "2025-01-12T08:22:08.995936Z",
     "start_time": "2025-01-12T08:22:08.986926Z"
    }
   },
   "cell_type": "code",
   "source": [
    "data = pd.DataFrame({'Exercise Price': [5125,5225,5325,5425,5525, 5625,5725, 5825],'Option Price': [485,415,350,290.5,236,189.5,149,115],})\n",
    "T = 4/12\n",
    "r=0.05\n",
    "t=0\n",
    "S = 5420.3\n",
    "data"
   ],
   "id": "1d4e7d5b3cece8c2",
   "outputs": [
    {
     "data": {
      "text/plain": [
       "   Exercise Price  Option Price\n",
       "0            5125         485.0\n",
       "1            5225         415.0\n",
       "2            5325         350.0\n",
       "3            5425         290.5\n",
       "4            5525         236.0\n",
       "5            5625         189.5\n",
       "6            5725         149.0\n",
       "7            5825         115.0"
      ],
      "text/html": [
       "<div>\n",
       "<style scoped>\n",
       "    .dataframe tbody tr th:only-of-type {\n",
       "        vertical-align: middle;\n",
       "    }\n",
       "\n",
       "    .dataframe tbody tr th {\n",
       "        vertical-align: top;\n",
       "    }\n",
       "\n",
       "    .dataframe thead th {\n",
       "        text-align: right;\n",
       "    }\n",
       "</style>\n",
       "<table border=\"1\" class=\"dataframe\">\n",
       "  <thead>\n",
       "    <tr style=\"text-align: right;\">\n",
       "      <th></th>\n",
       "      <th>Exercise Price</th>\n",
       "      <th>Option Price</th>\n",
       "    </tr>\n",
       "  </thead>\n",
       "  <tbody>\n",
       "    <tr>\n",
       "      <th>0</th>\n",
       "      <td>5125</td>\n",
       "      <td>485.0</td>\n",
       "    </tr>\n",
       "    <tr>\n",
       "      <th>1</th>\n",
       "      <td>5225</td>\n",
       "      <td>415.0</td>\n",
       "    </tr>\n",
       "    <tr>\n",
       "      <th>2</th>\n",
       "      <td>5325</td>\n",
       "      <td>350.0</td>\n",
       "    </tr>\n",
       "    <tr>\n",
       "      <th>3</th>\n",
       "      <td>5425</td>\n",
       "      <td>290.5</td>\n",
       "    </tr>\n",
       "    <tr>\n",
       "      <th>4</th>\n",
       "      <td>5525</td>\n",
       "      <td>236.0</td>\n",
       "    </tr>\n",
       "    <tr>\n",
       "      <th>5</th>\n",
       "      <td>5625</td>\n",
       "      <td>189.5</td>\n",
       "    </tr>\n",
       "    <tr>\n",
       "      <th>6</th>\n",
       "      <td>5725</td>\n",
       "      <td>149.0</td>\n",
       "    </tr>\n",
       "    <tr>\n",
       "      <th>7</th>\n",
       "      <td>5825</td>\n",
       "      <td>115.0</td>\n",
       "    </tr>\n",
       "  </tbody>\n",
       "</table>\n",
       "</div>"
      ]
     },
     "execution_count": 26,
     "metadata": {},
     "output_type": "execute_result"
    }
   ],
   "execution_count": 26
  },
  {
   "metadata": {
    "ExecuteTime": {
     "end_time": "2025-01-12T08:22:09.074797Z",
     "start_time": "2025-01-12T08:22:09.060785Z"
    }
   },
   "cell_type": "code",
   "source": [
    "def put_call_value(S, E, r, tau, sigma, option_type='call'):\n",
    "    \"\"\"\n",
    "    Calculate the value of a call or put option using the Black-Scholes formula.\n",
    "    :param S: Asset price at time t\n",
    "    :param E: Exercise price\n",
    "    :param r: interest rate\n",
    "    :param tau: time to expiry (T-t)\n",
    "    :param sigma: volatility\n",
    "    :param option_type: 'call' or 'put'\n",
    "    :return: option value, delta, and vega\n",
    "    \"\"\"\n",
    "    if tau > 0:\n",
    "        d1 = (np.log(S / E) + (r + sigma ** 2 / 2) * tau) / (sigma * np.sqrt(tau))\n",
    "        d2 = d1 - sigma * np.sqrt(tau)\n",
    "        if option_type == 'call':\n",
    "            value = S * stats.norm.cdf(d1) - E * np.exp(-r * tau) * stats.norm.cdf(d2)\n",
    "            delta= stats.norm.cdf(d1)\n",
    "            vega = S * np.sqrt(tau) * np.exp(-d1 ** 2 / 2) / np.sqrt(2 * np.pi)\n",
    "        else:\n",
    "            value = E * np.exp(-r * tau) * stats.norm.cdf(-d2) - S * stats.norm.cdf(-d1)\n",
    "            delta = -stats.norm.cdf(-d1)\n",
    "            vega = S * np.sqrt(tau) * np.exp(-d1 ** 2 / 2) / np.sqrt(2 * np.pi)\n",
    "        return value, delta, vega\n",
    "    else:\n",
    "        if option_type == 'call':\n",
    "            return max(S - E, 0), 1 if S > E else 0,0\n",
    "        else:\n",
    "            return max(E - S, 0), -1 if S < E else 0,0"
   ],
   "id": "b6d95486cfeefbe5",
   "outputs": [],
   "execution_count": 27
  },
  {
   "metadata": {
    "ExecuteTime": {
     "end_time": "2025-01-12T08:22:09.137854Z",
     "start_time": "2025-01-12T08:22:09.122841Z"
    }
   },
   "cell_type": "code",
   "source": [
    "def newtons_method_volatility(S, E, r, tau, C_true, tol=1e-6, max_iter=1000):\n",
    "    \"\"\"\n",
    "    Calculate the implied volatility of an option using Newton's method.\n",
    "    :param S: Asset price at time t\n",
    "    :param E:  Exercise price\n",
    "    :param r: interest rate\n",
    "    :param tau: time to expiry (T-t)\n",
    "    :param C_true: true option price\n",
    "    :param tol: tolerance\n",
    "    :param max_iter: maximum number of iterations\n",
    "    :return: implied volatility\n",
    "    \"\"\"\n",
    "    # initial guess for volatility\n",
    "    sigmahat = np.sqrt(2*abs(np.log(S/E) + r*tau) / tau)\n",
    "\n",
    "    sigma = sigmahat\n",
    "    sigmadiff = 1\n",
    "    k=1\n",
    "    while sigmadiff >= tol and k < max_iter:\n",
    "        C, delta, vega = put_call_value(S, E, r, tau, sigma)\n",
    "        increment = (C-C_true)/vega\n",
    "        if vega == 0:\n",
    "            return sigma\n",
    "        sigma = sigma - increment\n",
    "        sigmadiff = abs(increment)\n",
    "        k += 1\n",
    "    return sigma"
   ],
   "id": "da4aad7aafc0a96f",
   "outputs": [],
   "execution_count": 28
  },
  {
   "metadata": {
    "ExecuteTime": {
     "end_time": "2025-01-12T08:22:09.265971Z",
     "start_time": "2025-01-12T08:22:09.143859Z"
    }
   },
   "cell_type": "code",
   "source": [
    "imp_volatilities = []\n",
    "for i in range(len(data)):\n",
    "    E = data['Exercise Price'][i]\n",
    "    C_true = data['Option Price'][i]\n",
    "    #call_BS = put_call_value(S, E, r, T, 0.2, option_type='call')\n",
    "    #print(call_BS)\n",
    "    implied_volatility = newtons_method_volatility(S, E, r, T, C_true)\n",
    "    imp_volatilities.append(implied_volatility)\n",
    "\n",
    "# print(imp_volatilities)\n",
    "\n",
    "plt.plot(data['Exercise Price'], imp_volatilities, 'o-')\n",
    "# vertical line with the current asset price S\n",
    "plt.axvline(x=S, color='r', linestyle='--', label='Current Asset Price')\n",
    "\n",
    "plt.xlabel('Exercise Price')\n",
    "plt.ylabel('Implied Volatility')\n",
    "plt.title('Implied Volatility vs. Exercise Price')\n",
    "plt.legend()\n",
    "plt.show()"
   ],
   "id": "24a8707a3b5c4695",
   "outputs": [
    {
     "data": {
      "text/plain": [
       "<Figure size 640x480 with 1 Axes>"
      ],
      "image/png": "[encoded data removed]"
     },
     "metadata": {},
     "output_type": "display_data"
    }
   ],
   "execution_count": 29
  },
  {
   "metadata": {},
   "cell_type": "markdown",
   "source": [
    "#### 1b)\n",
    "\n",
    "A for `$AAPL`\n",
    "\n",
    "##### 1. fetching data"
   ],
   "id": "3d57f177f2978868"
  },
  {
   "metadata": {
    "ExecuteTime": {
     "end_time": "2025-01-12T08:30:46.626590Z",
     "start_time": "2025-01-12T08:30:46.598726Z"
    }
   },
   "cell_type": "code",
   "source": [
    "AAPL_17_01 = pd.read_csv('data/aapl-options-exp-2025-01-17.csv')\n",
    "AAPL_24_01 = pd.read_csv('data/aapl-options-exp-2025-01-24.csv')\n",
    "print(AAPL_17_01.head())\n",
    "print(AAPL_24_01.head())"
   ],
   "id": "d1e0d68e109f40d3",
   "outputs": [
    {
     "name": "stdout",
     "output_type": "stream",
     "text": [
      "   Strike Moneyness    Bid    Mid    Ask   Last Change     %Chg Volume  \\\n",
      "0  212.50   +10.28%  24.25  24.93  25.60  24.95  -5.18  -17.19%     41   \n",
      "1  215.00    +9.23%  21.90  22.23  22.55  21.35  -6.30  -22.78%    220   \n",
      "2  217.50    +8.17%  18.75  19.75  20.75  25.34   unch     unch      0   \n",
      "3  220.00    +7.11%  17.00  17.30  17.60  17.30  -5.85  -25.27%  1,667   \n",
      "4  222.50    +6.06%  14.35  15.05  15.75  14.30  -6.55  -31.41%     48   \n",
      "\n",
      "  Open Int OI Chg    Delta      IV  Type Last Trade  \n",
      "0        1     +1  0.93882  56.39%  Call   01/10/25  \n",
      "1   23,386    -45  0.95776  44.77%  Call   01/10/25  \n",
      "2        4     +4  0.95075  41.18%  Call   01/08/25  \n",
      "3   36,713    -48  0.93910  38.12%  Call   01/10/25  \n",
      "4       40    +15  0.90178  38.87%  Call   01/10/25  \n",
      "   Strike Moneyness    Bid    Mid    Ask   Last Change     %Chg Volume  \\\n",
      "0  212.50   +10.28%  23.05  24.90  26.75  25.50   unch     unch      2   \n",
      "1  215.00    +9.23%  22.10  22.78  23.45  22.80  -4.78  -17.33%     17   \n",
      "2  217.50    +8.17%  18.20  20.00  21.80  18.58  -2.29  -10.97%     35   \n",
      "3  220.00    +7.11%  17.50  17.85  18.20  16.97  -6.45  -27.54%     87   \n",
      "4  222.50    +6.06%  15.10  15.52  15.95  15.19  -5.36  -26.08%     38   \n",
      "\n",
      "  Open Int OI Chg    Delta      IV  Type Last Trade  \n",
      "0        0   unch  0.91038  44.73%  Call   01/10/25  \n",
      "1       88    +10  0.91831  38.30%  Call   01/10/25  \n",
      "2        0   unch  0.82988  50.64%  Call   01/10/25  \n",
      "3      116    +12  0.89940  31.91%  Call   01/10/25  \n",
      "4       27    +21  0.90512  26.30%  Call   01/10/25  \n"
     ]
    }
   ],
   "execution_count": 39
  },
  {
   "metadata": {
    "ExecuteTime": {
     "end_time": "2025-01-12T08:30:58.331457Z",
     "start_time": "2025-01-12T08:30:58.314441Z"
    }
   },
   "cell_type": "code",
   "source": [
    "# drop rows with put values\n",
    "AAPL_calls_17_01 = AAPL_17_01[AAPL_17_01['Type'] == 'Call']\n",
    "AAPL_calls_24_01 = AAPL_24_01[AAPL_24_01['Type'] == 'Call']\n",
    "AAPL_calls_17_01.head()"
   ],
   "id": "68a5a1dc35cce7f4",
   "outputs": [
    {
     "data": {
      "text/plain": [
       "   Strike Moneyness    Bid    Mid    Ask   Last Change     %Chg Volume  \\\n",
       "0  212.50   +10.28%  24.25  24.93  25.60  24.95  -5.18  -17.19%     41   \n",
       "1  215.00    +9.23%  21.90  22.23  22.55  21.35  -6.30  -22.78%    220   \n",
       "2  217.50    +8.17%  18.75  19.75  20.75  25.34   unch     unch      0   \n",
       "3  220.00    +7.11%  17.00  17.30  17.60  17.30  -5.85  -25.27%  1,667   \n",
       "4  222.50    +6.06%  14.35  15.05  15.75  14.30  -6.55  -31.41%     48   \n",
       "\n",
       "  Open Int OI Chg    Delta      IV  Type Last Trade  \n",
       "0        1     +1  0.93882  56.39%  Call   01/10/25  \n",
       "1   23,386    -45  0.95776  44.77%  Call   01/10/25  \n",
       "2        4     +4  0.95075  41.18%  Call   01/08/25  \n",
       "3   36,713    -48  0.93910  38.12%  Call   01/10/25  \n",
       "4       40    +15  0.90178  38.87%  Call   01/10/25  "
      ],
      "text/html": [
       "<div>\n",
       "<style scoped>\n",
       "    .dataframe tbody tr th:only-of-type {\n",
       "        vertical-align: middle;\n",
       "    }\n",
       "\n",
       "    .dataframe tbody tr th {\n",
       "        vertical-align: top;\n",
       "    }\n",
       "\n",
       "    .dataframe thead th {\n",
       "        text-align: right;\n",
       "    }\n",
       "</style>\n",
       "<table border=\"1\" class=\"dataframe\">\n",
       "  <thead>\n",
       "    <tr style=\"text-align: right;\">\n",
       "      <th></th>\n",
       "      <th>Strike</th>\n",
       "      <th>Moneyness</th>\n",
       "      <th>Bid</th>\n",
       "      <th>Mid</th>\n",
       "      <th>Ask</th>\n",
       "      <th>Last</th>\n",
       "      <th>Change</th>\n",
       "      <th>%Chg</th>\n",
       "      <th>Volume</th>\n",
       "      <th>Open Int</th>\n",
       "      <th>OI Chg</th>\n",
       "      <th>Delta</th>\n",
       "      <th>IV</th>\n",
       "      <th>Type</th>\n",
       "      <th>Last Trade</th>\n",
       "    </tr>\n",
       "  </thead>\n",
       "  <tbody>\n",
       "    <tr>\n",
       "      <th>0</th>\n",
       "      <td>212.50</td>\n",
       "      <td>+10.28%</td>\n",
       "      <td>24.25</td>\n",
       "      <td>24.93</td>\n",
       "      <td>25.60</td>\n",
       "      <td>24.95</td>\n",
       "      <td>-5.18</td>\n",
       "      <td>-17.19%</td>\n",
       "      <td>41</td>\n",
       "      <td>1</td>\n",
       "      <td>+1</td>\n",
       "      <td>0.93882</td>\n",
       "      <td>56.39%</td>\n",
       "      <td>Call</td>\n",
       "      <td>01/10/25</td>\n",
       "    </tr>\n",
       "    <tr>\n",
       "      <th>1</th>\n",
       "      <td>215.00</td>\n",
       "      <td>+9.23%</td>\n",
       "      <td>21.90</td>\n",
       "      <td>22.23</td>\n",
       "      <td>22.55</td>\n",
       "      <td>21.35</td>\n",
       "      <td>-6.30</td>\n",
       "      <td>-22.78%</td>\n",
       "      <td>220</td>\n",
       "      <td>23,386</td>\n",
       "      <td>-45</td>\n",
       "      <td>0.95776</td>\n",
       "      <td>44.77%</td>\n",
       "      <td>Call</td>\n",
       "      <td>01/10/25</td>\n",
       "    </tr>\n",
       "    <tr>\n",
       "      <th>2</th>\n",
       "      <td>217.50</td>\n",
       "      <td>+8.17%</td>\n",
       "      <td>18.75</td>\n",
       "      <td>19.75</td>\n",
       "      <td>20.75</td>\n",
       "      <td>25.34</td>\n",
       "      <td>unch</td>\n",
       "      <td>unch</td>\n",
       "      <td>0</td>\n",
       "      <td>4</td>\n",
       "      <td>+4</td>\n",
       "      <td>0.95075</td>\n",
       "      <td>41.18%</td>\n",
       "      <td>Call</td>\n",
       "      <td>01/08/25</td>\n",
       "    </tr>\n",
       "    <tr>\n",
       "      <th>3</th>\n",
       "      <td>220.00</td>\n",
       "      <td>+7.11%</td>\n",
       "      <td>17.00</td>\n",
       "      <td>17.30</td>\n",
       "      <td>17.60</td>\n",
       "      <td>17.30</td>\n",
       "      <td>-5.85</td>\n",
       "      <td>-25.27%</td>\n",
       "      <td>1,667</td>\n",
       "      <td>36,713</td>\n",
       "      <td>-48</td>\n",
       "      <td>0.93910</td>\n",
       "      <td>38.12%</td>\n",
       "      <td>Call</td>\n",
       "      <td>01/10/25</td>\n",
       "    </tr>\n",
       "    <tr>\n",
       "      <th>4</th>\n",
       "      <td>222.50</td>\n",
       "      <td>+6.06%</td>\n",
       "      <td>14.35</td>\n",
       "      <td>15.05</td>\n",
       "      <td>15.75</td>\n",
       "      <td>14.30</td>\n",
       "      <td>-6.55</td>\n",
       "      <td>-31.41%</td>\n",
       "      <td>48</td>\n",
       "      <td>40</td>\n",
       "      <td>+15</td>\n",
       "      <td>0.90178</td>\n",
       "      <td>38.87%</td>\n",
       "      <td>Call</td>\n",
       "      <td>01/10/25</td>\n",
       "    </tr>\n",
       "  </tbody>\n",
       "</table>\n",
       "</div>"
      ]
     },
     "execution_count": 41,
     "metadata": {},
     "output_type": "execute_result"
    }
   ],
   "execution_count": 41
  },
  {
   "metadata": {},
   "cell_type": "markdown",
   "source": "##### 2. predefine useful functions",
   "id": "f7e3645771138745"
  },
  {
   "metadata": {},
   "cell_type": "code",
   "outputs": [],
   "execution_count": null,
   "source": [
    "from scipy.interpolate import CubicSpline\n",
    "\n",
    "def rfrate(T_option):\n",
    "    \"\"\"\n",
    "    Calculate the risk-free rate for a given option maturity using a cubic spline interpolation.\n",
    "    :param T_option: option time to maturity (w.r.t. 10th January 2025) (in years)\n",
    "    :return: risk-free rate\n",
    "    \"\"\"\n",
    "    maturities = np.array([1/12,1/6,1/4,1/3,1/2,1,2,3,5,7,10,20,30])  # years\n",
    "    yields = np.array([4.42,4.35,4.36,4.33,4.27,4.25,4.40,4.46,4.59,4.70,4.77,5.04,4.96 ])  # sources from treasury.gov @ 2025-01-10\n",
    "    spline = CubicSpline(maturities, yields)\n",
    "    risk_free_rate = spline(T_option)\n",
    "    return risk_free_rate"
   ],
   "id": "fbe0817b1177baf3"
  },
  {
   "metadata": {},
   "cell_type": "code",
   "outputs": [],
   "execution_count": null,
   "source": "",
   "id": "9dac278158b5b0a8"
  }
 ],
 "metadata": {
  "kernelspec": {
   "display_name": "Python 3",
   "language": "python",
   "name": "python3"
  },
  "language_info": {
   "codemirror_mode": {
    "name": "ipython",
    "version": 2
   },
   "file_extension": ".py",
   "mimetype": "text/x-python",
   "name": "python",
   "nbconvert_exporter": "python",
   "pygments_lexer": "ipython2",
   "version": "2.7.6"
  }
 },
 "nbformat": 4,
 "nbformat_minor": 5
}
